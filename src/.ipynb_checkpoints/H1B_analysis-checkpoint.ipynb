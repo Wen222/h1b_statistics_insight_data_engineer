{
 "cells": [
  {
   "cell_type": "code",
   "execution_count": 69,
   "metadata": {
    "collapsed": false
   },
   "outputs": [
    {
     "name": "stdout",
     "output_type": "stream",
     "text": [
      "519505\n",
      "[('CA', 85022), ('TX', 44971), ('NY', 41881), ('NJ', 33086), ('IL', 24314), ('PA', 17147), ('MA', 17094), ('GA', 16046), ('WA', 15571), ('FL', 15501)]\n",
      "0\n",
      "1\n",
      "2\n",
      "3\n",
      "4\n",
      "5\n",
      "6\n",
      "7\n",
      "8\n",
      "9\n",
      "[['CA', 85022, '16.4%'], ['TX', 44971, '8.7%'], ['NY', 41881, '8.1%'], ['NJ', 33086, '6.4%'], ['IL', 24314, '4.7%'], ['PA', 17147, '3.3%'], ['MA', 17094, '3.3%'], ['GA', 16046, '3.1%'], ['WA', 15571, '3.0%'], ['FL', 15501, '3.0%']]\n"
     ]
    }
   ],
   "source": [
    "import csv\n",
    "\n",
    "INPUT_FILE = '/Users/appe/Documents/job/data-scientist/InsightDataCamp/h1b_statistics-master/input/H1B_FY_2014.csv'\n",
    "\n",
    "total = 0\n",
    "#status_index, occ_index, state_index = 0,0,0\n",
    "occ_dic, st_dic = {}, {}\n",
    "with open(INPUT_FILE,'rb') as f:\n",
    "    \n",
    "    for line in f:\n",
    "        total += 1\n",
    "        line = line.strip()\n",
    "        words = line.split(';')\n",
    "        #print words\n",
    "        if total == 1:\n",
    "            status_index = words.index('STATUS')\n",
    "            #print status_index\n",
    "            occ_index =  words.index('LCA_CASE_SOC_NAME')\n",
    "            state_index = words.index('LCA_CASE_WORKLOC1_STATE')\n",
    "        if total >= 2:\n",
    "            if words[status_index] == 'CERTIFIED':\n",
    "                occ = words[occ_index]\n",
    "                st = words[state_index]\n",
    "                if occ in occ_dic:\n",
    "                    occ_dic[occ] += 1\n",
    "                else:\n",
    "                    occ_dic[occ] = 1\n",
    "                \n",
    "                if st in st_dic:\n",
    "                    st_dic[st] += 1\n",
    "                else:\n",
    "                    st_dic[st] = 1\n",
    "        #print st_dic\n",
    "        #print occ_dic\n",
    "        #if total > 20:\n",
    "        #    break\n",
    "    #print st_dic\n",
    "    #print occ_dic\n",
    "    print total\n",
    "    st_top10 = sorted(st_dic.items(), key=lambda x: (-x[1],x[0]))[:10]\n",
    "    print st_top10\n",
    "    #occ_top10 = sorted(occ_dic.iteritems(), key=lambda (k,v):(v,k), reverse=True)[:10]\n",
    "    for i in xrange(len(st_top10)):\n",
    "        print i\n",
    "        l = list(st_top10[i])\n",
    "        p = '{:.1%}'.format(float(l[1])/float(total))\n",
    "        l.append(p)\n",
    "        st_top10[i] = l\n",
    "    print st_top10\n",
    "    with open('out.txt', 'w') as f:\n",
    "        header = 'TOP_STATES;NUMBER_CERTIFIED_APPLICATIONS;PERCENTAGE\\n'\n",
    "        f.write(header)\n",
    "        for i in xrange(len(st_top10)):\n",
    "            item = st_top10[i]\n",
    "            f.write(\"%s;%d;%s\\n\" % (item[0],item[1],item[2]))"
   ]
  },
  {
   "cell_type": "code",
   "execution_count": null,
   "metadata": {
    "collapsed": true
   },
   "outputs": [],
   "source": []
  }
 ],
 "metadata": {
  "kernelspec": {
   "display_name": "Python 2",
   "language": "python",
   "name": "python2"
  },
  "language_info": {
   "codemirror_mode": {
    "name": "ipython",
    "version": 2
   },
   "file_extension": ".py",
   "mimetype": "text/x-python",
   "name": "python",
   "nbconvert_exporter": "python",
   "pygments_lexer": "ipython2",
   "version": "2.7.11"
  }
 },
 "nbformat": 4,
 "nbformat_minor": 0
}
